{
 "cells": [
  {
   "cell_type": "code",
   "execution_count": 1,
   "metadata": {
    "collapsed": true,
    "pycharm": {
     "name": "#%%\n"
    }
   },
   "outputs": [],
   "source": [
    "import torch\n",
    "import torch.nn as nn\n",
    "import sys\n",
    "sys.path.append(\"/root/autodl-tmp/GAU-PyTorch\")\n",
    "from utils.modeling import GAUModel, GAUConfig\n",
    "\n",
    "input_ids = torch.randint(0, 10000, [16, 300])"
   ]
  },
  {
   "cell_type": "code",
   "execution_count": 2,
   "outputs": [],
   "source": [
    "config = GAUConfig(output_attentions=True)\n",
    "model = GAUModel(config)\n"
   ],
   "metadata": {
    "collapsed": false,
    "pycharm": {
     "name": "#%%\n"
    }
   }
  },
  {
   "cell_type": "code",
   "execution_count": 3,
   "outputs": [],
   "source": [
    "output = model(input_ids)"
   ],
   "metadata": {
    "collapsed": false,
    "pycharm": {
     "name": "#%%\n"
    }
   }
  },
  {
   "cell_type": "code",
   "execution_count": 4,
   "outputs": [
    {
     "data": {
      "text/plain": "'\\nfor item in output.attentions:\\n    print(torch.linalg.matrix_rank(item[0]))\\n    print(torch.linalg.matrix_rank(item[1]))\\n    print(\"--\")\\n'"
     },
     "execution_count": 4,
     "metadata": {},
     "output_type": "execute_result"
    }
   ],
   "source": [
    "\"\"\"\n",
    "for item in output.attentions:\n",
    "    print(torch.linalg.matrix_rank(item[0]))\n",
    "    print(torch.linalg.matrix_rank(item[1]))\n",
    "    print(\"--\")\n",
    "\"\"\""
   ],
   "metadata": {
    "collapsed": false,
    "pycharm": {
     "name": "#%%\n"
    }
   }
  },
  {
   "cell_type": "code",
   "execution_count": 8,
   "outputs": [
    {
     "data": {
      "text/plain": "tensor([False, False, False, False, False, False, False, False, False, False,\n        False, False, False, False, False, False, False, False, False, False,\n        False, False, False, False, False, False, False, False,  True, False,\n        False, False, False, False, False, False, False, False, False,  True,\n        False,  True, False, False, False, False, False, False, False, False,\n        False, False, False, False, False, False, False, False, False, False,\n        False,  True,  True, False, False, False, False, False,  True, False,\n        False, False, False, False, False, False,  True, False,  True, False,\n        False, False, False, False, False, False,  True, False, False, False,\n        False, False, False, False, False, False, False, False, False, False,\n        False, False, False, False, False, False, False, False, False, False,\n        False, False, False, False, False, False, False, False, False, False,\n        False, False, False, False, False, False, False, False, False, False,\n        False, False, False, False, False,  True, False, False, False, False,\n         True, False, False, False, False, False, False, False, False, False,\n        False, False, False, False, False, False,  True, False, False,  True,\n        False, False, False, False, False,  True, False, False, False, False,\n        False, False, False, False, False, False, False,  True, False, False,\n        False, False, False, False, False, False, False, False, False, False,\n        False, False, False, False, False, False, False, False,  True, False,\n        False, False, False, False, False, False, False, False, False, False,\n        False, False, False, False, False,  True, False, False, False, False,\n        False, False, False, False, False, False, False, False, False, False,\n         True, False, False, False, False, False, False, False, False, False,\n        False, False, False, False, False, False, False, False, False, False,\n        False, False, False, False, False, False, False, False, False, False,\n        False,  True, False, False, False, False, False,  True, False,  True,\n         True, False, False,  True,  True, False, False, False, False, False,\n        False, False, False, False, False,  True, False, False, False, False,\n        False, False, False, False, False, False, False, False, False, False])"
     },
     "execution_count": 8,
     "metadata": {},
     "output_type": "execute_result"
    }
   ],
   "source": [
    "output.attentions[0][0][0] == 0"
   ],
   "metadata": {
    "collapsed": false,
    "pycharm": {
     "name": "#%%\n"
    }
   }
  }
 ],
 "metadata": {
  "kernelspec": {
   "display_name": "Python 3",
   "language": "python",
   "name": "python3"
  },
  "language_info": {
   "codemirror_mode": {
    "name": "ipython",
    "version": 2
   },
   "file_extension": ".py",
   "mimetype": "text/x-python",
   "name": "python",
   "nbconvert_exporter": "python",
   "pygments_lexer": "ipython2",
   "version": "2.7.6"
  }
 },
 "nbformat": 4,
 "nbformat_minor": 0
}